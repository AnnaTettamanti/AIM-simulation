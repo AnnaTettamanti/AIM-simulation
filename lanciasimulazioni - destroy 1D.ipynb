{
 "cells": [
  {
   "cell_type": "markdown",
   "id": "bade527e",
   "metadata": {},
   "source": [
    "# Simulazione modello AIM"
   ]
  },
  {
   "cell_type": "code",
   "execution_count": 1,
   "id": "5293211b",
   "metadata": {},
   "outputs": [],
   "source": [
    "import numpy as np\n",
    "import numba\n",
    "from numba import njit, prange\n",
    "from scipy.io import savemat\n",
    "import matplotlib.pyplot as plt\n",
    "from simula1d import *"
   ]
  },
  {
   "cell_type": "markdown",
   "id": "4cb82b03",
   "metadata": {},
   "source": [
    "Ho un po' di funzioni che fanno evoluzione temporale, scrivo qua sotto per non dimenticare:\n",
    "- evoluzione_profili = profili e basta solo alla fine (non ha senso usarla)\n",
    "- evoluzione_filmino = salva densità e magnetizzazione che sono effettivamente da controllare, secondo quello che dice array\n",
    "- evoluzione_track = tiene traccia casualmente di alcune particelle per osservare meglio la dinamica\n",
    "- evoluzione_scorporata = scorpora il meccanismo di flip da quello della diffusione"
   ]
  },
  {
   "cell_type": "markdown",
   "id": "9dce59c4",
   "metadata": {},
   "source": [
    "Compilazioni preliminari per velocizzare"
   ]
  },
  {
   "cell_type": "code",
   "execution_count": 2,
   "id": "95309974",
   "metadata": {},
   "outputs": [
    {
     "data": {
      "text/plain": [
       "(array([], shape=(0, 5), dtype=float64),\n",
       " array([], shape=(0, 5), dtype=float64),\n",
       " array([0.14, 0.28, 0.22, 0.2 , 0.11, 0.09, 0.01, 0.05, 0.01, 0.16]))"
      ]
     },
     "execution_count": 2,
     "metadata": {},
     "output_type": "execute_result"
    }
   ],
   "source": [
    "L = 5\n",
    "n = 200\n",
    "particles = np.empty((n,2), dtype=np.int64)\n",
    "particles[:,0] = np.random.randint(0, L, size=n)\n",
    "particles[:,1] = 2*np.random.randint(0,2,size=n) - 1\n",
    "\n",
    "density = np.zeros(L, np.int32)\n",
    "magnet  = np.zeros(L, np.int32)\n",
    "\n",
    "# popola matrici iniziali\n",
    "for k in range(n):\n",
    "    x, s = particles[k]\n",
    "    density[x] += 1\n",
    "    magnet[x]  += s\n",
    "\n",
    "array = np.arange(0,0)\n",
    "rateflip_numba(L,1,1,1,1,1,magnet,density)\n",
    "evoluzione_filmino(L,1,1,1,particles,10,1,1,array) #compila"
   ]
  },
  {
   "cell_type": "code",
   "execution_count": null,
   "id": "4a13ba86",
   "metadata": {},
   "outputs": [],
   "source": [
    "# Parametri delle simulazioni\n",
    "L = 1000\n",
    "D, epsilon  = 1.0, 0.9\n",
    "t_max       = 1_000_000\n",
    "freq_frames = 2_500\n",
    "log_array = build_log_indices(t_max, freq_frames)\n",
    "num = 21 #numero di simulazioni da lanciare per ogni taglia\n",
    "\n",
    "T         = np.array([0.2, 0.2, 0.2, 0.2, 0.2, 0.2, 0.2]) #temperature\n",
    "betas     = 1/T\n",
    "gammas    = np.array([0.09, 0.10, 0.11, 0.12, 0.13, 0.14, 0.15]) # grado di località\n",
    "metodi    = np.array([3, 3, 3, 3, 3, 3, 3]) # smetodo di \"località\"\n",
    "\n",
    "\n",
    "from scipy.io import loadmat\n",
    "percorso_magnet = '/Users/annat/Dati/Tempo formazione aster 1D/1Dtime2T0.200L2000localframes_m.mat'\n",
    "percorso_density = '/Users/annat/Dati/Tempo formazione aster 1D/1Dtime2T0.200L2000localframes_d.mat'\n",
    "\n",
    "dati = loadmat(percorso_magnet)\n",
    "dati2 = loadmat(percorso_density)\n",
    "\n",
    "magnet = dati['frames_m']\n",
    "magnet = np.array(magnet, dtype=np.float64)\n",
    "\n",
    "density = dati2['frames_d']\n",
    "density = np.array(density, dtype=np.float64)\n",
    "\n",
    "magnet_asters = magnet[-1, :]\n",
    "magnet_asters =  np.squeeze(magnet_asters)\n",
    "\n",
    "density_asters = density[-1, :]\n",
    "density_asters =  np.squeeze(density_asters)\n",
    "\n",
    "\n",
    "for j in range(1, num):\n",
    "    for i, beta in enumerate(betas):\n",
    "    \n",
    "        # chiama la funzione numba (già compilata)\n",
    "        frames_d, frames_m = evoluzione_destroy(\n",
    "            magnet_asters, density_asters, D, epsilon,\n",
    "            beta, t_max, log_array, gammas[i], metodi[i])\n",
    "\n",
    "        # salvataggio per successiva visualizzazione (anche in Matlab)\n",
    "\n",
    "        savemat(f'1Ddestroy{j}T{1/betas[i]:.3f}L2000' + f'gamma{gammas[i]:.4f}'+'frames_d'+'.mat', {'frames_d': frames_d})\n",
    "        savemat(f'1Ddestroy{j}T{1/betas[i]:.3f}L2000' + f'gamma{gammas[i]:.4f}'+'frames_m'+'.mat', {'frames_m': frames_m})"
   ]
  }
 ],
 "metadata": {
  "kernelspec": {
   "display_name": "base",
   "language": "python",
   "name": "python3"
  },
  "language_info": {
   "codemirror_mode": {
    "name": "ipython",
    "version": 3
   },
   "file_extension": ".py",
   "mimetype": "text/x-python",
   "name": "python",
   "nbconvert_exporter": "python",
   "pygments_lexer": "ipython3",
   "version": "3.12.7"
  }
 },
 "nbformat": 4,
 "nbformat_minor": 5
}
