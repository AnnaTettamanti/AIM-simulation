{
 "cells": [
  {
   "cell_type": "markdown",
   "id": "bade527e",
   "metadata": {},
   "source": [
    "# Simulazione modello AIM"
   ]
  },
  {
   "cell_type": "code",
   "execution_count": 1,
   "id": "5293211b",
   "metadata": {},
   "outputs": [],
   "source": [
    "import numpy as np\n",
    "import numba\n",
    "from numba import njit, prange\n",
    "from scipy.io import savemat\n",
    "import matplotlib.pyplot as plt\n",
    "from simula import *"
   ]
  },
  {
   "cell_type": "markdown",
   "id": "4cb82b03",
   "metadata": {},
   "source": [
    "Ho un po' di funzioni che fanno evoluzione temporale, scrivo qua sotto per non dimenticare:\n",
    "- evoluzione_profili = profili e basta solo alla fine (non ha senso usarla)\n",
    "- evoluzione_filmino = salva densità e magnetizzazione che sono effettivamente da controllare, secondo quello che dice array\n",
    "- evoluzione_track = tiene traccia casualmente di alcune particelle per osservare meglio la dinamica\n",
    "- evoluzione_scorporata = scorpora il meccanismo di flip da quello della diffusione"
   ]
  },
  {
   "cell_type": "markdown",
   "id": "9dce59c4",
   "metadata": {},
   "source": [
    "Compilazioni preliminari per velocizzare"
   ]
  },
  {
   "cell_type": "code",
   "execution_count": 2,
   "id": "95309974",
   "metadata": {},
   "outputs": [
    {
     "data": {
      "text/plain": [
       "(array([], shape=(0, 5, 5), dtype=float64),\n",
       " array([], shape=(0, 5, 5), dtype=float64),\n",
       " array([-0.08, -0.06, -0.06, -0.11, -0.09, -0.11, -0.09, -0.14, -0.09,\n",
       "        -0.16]))"
      ]
     },
     "execution_count": 2,
     "metadata": {},
     "output_type": "execute_result"
    }
   ],
   "source": [
    "Lx = 5\n",
    "Ly = 5\n",
    "n = 200\n",
    "particles = np.empty((n,3), dtype=np.int64)\n",
    "particles[:,0] = np.random.randint(0, Lx, size=n)\n",
    "particles[:,1] = np.random.randint(0, Ly, size=n)\n",
    "particles[:,2] = 2*np.random.randint(0,2,size=n) - 1\n",
    "\n",
    "density = np.zeros((Ly, Lx), np.int32)\n",
    "magnet  = np.zeros((Ly, Lx), np.int32)\n",
    "\n",
    "# popola matrici iniziali\n",
    "for k in range(n):\n",
    "    x, y, s = particles[k]\n",
    "    density[y, x] += 1\n",
    "    magnet[y, x]  += s\n",
    "\n",
    "array = np.arange(0,0)\n",
    "rateflip_numba(Lx,Ly,1,1,1,1,1,1,magnet,density)\n",
    "evoluzione_profili(Lx,Ly,1,1,1,particles,1,1,1)\n",
    "evoluzione_filmino(Lx,Ly,1,1,1,particles,10,1,1,array) #compila"
   ]
  },
  {
   "cell_type": "code",
   "execution_count": 3,
   "id": "4a13ba86",
   "metadata": {},
   "outputs": [],
   "source": [
    "# Parametri delle simulazioni\n",
    "Lx, Ly      = [50, 70], [50, 70]\n",
    "D, epsilon  = 1.0, 0.9\n",
    "t_max       = 6_000_000\n",
    "freq_frames = 5_000\n",
    "num = 11 #numero di simulazioni da lanciare per ogni taglia\n",
    "\n",
    "array = build_log_indices(t_max, freq_frames) \n",
    "array = np.array(array, dtype=np.int64) \n",
    "\n",
    "#array = np.arange(0, t_max, freq_frames, dtype=np.int64) # per test\n",
    "\n",
    "dens_init = np.array([5, 5]) # ci sono cluster a basse T?\n",
    "T         = np.array([0.2, 0.2]) #temperature\n",
    "betas     = 1/T\n",
    "gammas    = np.array([0, 0]) # grado di località\n",
    "metodi    = np.array([1, 1]) # metodo di \"località\"\n",
    "\n",
    "\n",
    "for j in range(1,num):\n",
    "    for i, beta in enumerate(betas):\n",
    "        n = int(Lx[i] * Ly[i] * dens_init[i]) #n_particelle data densità\n",
    "    \n",
    "        # genera particelle dato n\n",
    "        particles = np.empty((n,3), dtype=np.int64)\n",
    "        particles[:,0] = np.random.randint(0, Lx[i], size=n)\n",
    "        particles[:,1] = np.random.randint(0, Ly[i], size=n)\n",
    "        particles[:,2] = 2*np.random.randint(0,2,size=n) - 1\n",
    "\n",
    "        # chiama la funzione numba (già compilata)\n",
    "        frames_d, frames_m, order_param = evoluzione_filmino(\n",
    "            Lx[i], Ly[i], D, epsilon,\n",
    "            beta, particles, t_max,\n",
    "            gammas[i], metodi[i], array\n",
    "        )\n",
    "\n",
    "        # salvataggio per successiva visualizzazione (anche in Matlab)\n",
    "\n",
    "        savemat(f'{j}stabL{Lx[i]:.0f}' + 'frames_d'+'.mat', {'frames_d': frames_d})\n",
    "        savemat(f'{j}stabL{Lx[i]:.0f}' + 'frames_m'+'.mat', {'frames_m': frames_m})\n",
    "        savemat(f'{j}stabL{Lx[i]:.0f}' + 'order_param'+'.mat', {'order_param': order_param})"
   ]
  }
 ],
 "metadata": {
  "kernelspec": {
   "display_name": "base",
   "language": "python",
   "name": "python3"
  },
  "language_info": {
   "codemirror_mode": {
    "name": "ipython",
    "version": 3
   },
   "file_extension": ".py",
   "mimetype": "text/x-python",
   "name": "python",
   "nbconvert_exporter": "python",
   "pygments_lexer": "ipython3",
   "version": "3.12.9"
  }
 },
 "nbformat": 4,
 "nbformat_minor": 5
}
